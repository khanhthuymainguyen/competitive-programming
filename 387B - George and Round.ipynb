{
 "cells": [
  {
   "cell_type": "code",
   "execution_count": 1,
   "metadata": {},
   "outputs": [
    {
     "name": "stdout",
     "output_type": "stream",
     "text": [
      "3 5\n",
      "1 2 3\n",
      "1 2 2 3 3\n",
      "0\n"
     ]
    }
   ],
   "source": [
    "# Challenge here: https://codeforces.com/problemset/problem/387/B\n",
    "n, m = map(int, input().split())\n",
    "a = list(map(int, input().split()))\n",
    "b = list(map(int, input().split()))\n",
    " \n",
    "count = i = 0\n",
    " \n",
    "for j in range(m):\n",
    "    if i >= n:\n",
    "        break\n",
    " \n",
    "    if b[j] >= a[i]:\n",
    "        count += 1\n",
    "        i += 1\n",
    " \n",
    "print(n - count)"
   ]
  }
 ],
 "metadata": {
  "kernelspec": {
   "display_name": "Python 3",
   "language": "python",
   "name": "python3"
  },
  "language_info": {
   "codemirror_mode": {
    "name": "ipython",
    "version": 3
   },
   "file_extension": ".py",
   "mimetype": "text/x-python",
   "name": "python",
   "nbconvert_exporter": "python",
   "pygments_lexer": "ipython3",
   "version": "3.7.1"
  }
 },
 "nbformat": 4,
 "nbformat_minor": 2
}
