{
 "cells": [
  {
   "cell_type": "code",
   "execution_count": 1,
   "metadata": {},
   "outputs": [
    {
     "name": "stdout",
     "output_type": "stream",
     "text": [
      "9\n",
      "16 20 30 40 50 60 70 80 90\n",
      "15\n"
     ]
    }
   ],
   "source": [
    "# Challenge here: https://codeforces.com/problemset/problem/673/A \n",
    "\n",
    "n = int(input())\n",
    "\n",
    "a = list(map(int, input().split()))\n",
    "\n",
    "x = 0 \n",
    "      \n",
    "for i in range(n):\n",
    "    if a[i] - x > 15:\n",
    "        x += 15\n",
    "        break\n",
    "    else:\n",
    "        x = a[i]\n",
    "if x == a[-1]:\n",
    "    x = x+15 \n",
    "    \n",
    "print(min(x,90))"
   ]
  }
 ],
 "metadata": {
  "kernelspec": {
   "display_name": "Python 3",
   "language": "python",
   "name": "python3"
  },
  "language_info": {
   "codemirror_mode": {
    "name": "ipython",
    "version": 3
   },
   "file_extension": ".py",
   "mimetype": "text/x-python",
   "name": "python",
   "nbconvert_exporter": "python",
   "pygments_lexer": "ipython3",
   "version": "3.7.1"
  }
 },
 "nbformat": 4,
 "nbformat_minor": 2
}
