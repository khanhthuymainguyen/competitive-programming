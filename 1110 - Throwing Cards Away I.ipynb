{
 "cells": [
  {
   "cell_type": "code",
   "execution_count": 1,
   "metadata": {},
   "outputs": [
    {
     "name": "stdout",
     "output_type": "stream",
     "text": [
      "7\n",
      "19\n",
      "10 \n",
      "6\n",
      "0\n",
      "Discarded cards: 1, 3, 5, 7, 4, 2\n",
      "Remaining card: 6\n",
      "Discarded cards: 1, 3, 5, 7, 9, 11, 13, 15, 17, 19, 4, 8, 12, 16, 2, 10, 18, 14\n",
      "Remaining card: 6\n",
      "Discarded cards: 1, 3, 5, 7, 9, 2, 6, 10, 8\n",
      "Remaining card: 4\n",
      "Discarded cards: 1, 3, 5, 2, 6\n",
      "Remaining card: 4\n"
     ]
    }
   ],
   "source": [
    "# Challenge here: https://www.urionlinejudge.com.br/judge/en/problems/view/1110\n",
    "\n",
    "def throwing(a):\n",
    "    card = []\n",
    "    discard = []\n",
    "    pos = 0\n",
    "    val = a\n",
    "    for i in range(a):\n",
    "        card.insert(pos, val)\n",
    "        pos += 1 \n",
    "        val -= 1\n",
    "    while len(card) >= 2:\n",
    "        ans1 = card.pop()\n",
    "        discard.append(ans1)\n",
    "        d = card.insert(0, card[-1])\n",
    "        del card[-1]\n",
    "    return discard, card\n",
    "\n",
    "lst = []\n",
    "\n",
    "while True:\n",
    "    n = int(input())\n",
    "    if n == 0:\n",
    "        break\n",
    "    else:\n",
    "        lst.append(throwing(n))\n",
    "\n",
    "for i in range(len(lst)):\n",
    "    if len(lst[i][0]) > 0:\n",
    "        print(\"Discarded cards:\", end = \" \")\n",
    "        for j in range(len(lst[i][0])-1):\n",
    "            print(lst[i][0][j], end = \", \")\n",
    "        print(lst[i][0][-1])\n",
    "    else:\n",
    "        print(\"Discarded cards:\")\n",
    "    print(\"Remaining card:\", end = \" \")\n",
    "    print(lst[i][1][0])\n"
   ]
  }
 ],
 "metadata": {
  "kernelspec": {
   "display_name": "Python 3",
   "language": "python",
   "name": "python3"
  },
  "language_info": {
   "codemirror_mode": {
    "name": "ipython",
    "version": 3
   },
   "file_extension": ".py",
   "mimetype": "text/x-python",
   "name": "python",
   "nbconvert_exporter": "python",
   "pygments_lexer": "ipython3",
   "version": "3.7.1"
  }
 },
 "nbformat": 4,
 "nbformat_minor": 2
}
