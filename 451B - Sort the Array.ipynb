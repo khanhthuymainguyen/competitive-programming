{
 "cells": [
  {
   "cell_type": "code",
   "execution_count": 1,
   "metadata": {},
   "outputs": [
    {
     "name": "stdout",
     "output_type": "stream",
     "text": [
      "3\n",
      "3 2 1\n"
     ]
    }
   ],
   "source": [
    "# Challenge here: https://codeforces.com/problemset/problem/451/B\n",
    "n = int(input())\n",
    "a = list(map(int, input().split()))    "
   ]
  },
  {
   "cell_type": "code",
   "execution_count": 2,
   "metadata": {},
   "outputs": [],
   "source": [
    "copy = a[:]\n",
    "copy.sort()"
   ]
  },
  {
   "cell_type": "code",
   "execution_count": 3,
   "metadata": {},
   "outputs": [],
   "source": [
    "if a == copy:\n",
    "    i = 0\n",
    "    j = 0\n",
    "else:\n",
    "    lst = []\n",
    "    for i in range(n):\n",
    "        if a[i] != copy[i]:\n",
    "            lst.append(i)\n",
    "            break        \n",
    "    for j in range(len(a)-1, -1, -1):\n",
    "        if a[j] != copy[j]:\n",
    "            lst.append(j)\n",
    "            break\n",
    "\n",
    "    i = lst[0]\n",
    "    j = lst[-1]\n",
    "    a[i:j+1] = list(reversed(a[i:j+1]))"
   ]
  },
  {
   "cell_type": "code",
   "execution_count": 4,
   "metadata": {},
   "outputs": [
    {
     "name": "stdout",
     "output_type": "stream",
     "text": [
      "yes\n",
      "1 3 "
     ]
    }
   ],
   "source": [
    "if a == copy:\n",
    "    print(\"yes\")\n",
    "    print(i+1, j+1, end = \" \")\n",
    "else:\n",
    "    print(\"no\")"
   ]
  }
 ],
 "metadata": {
  "kernelspec": {
   "display_name": "Python 3",
   "language": "python",
   "name": "python3"
  },
  "language_info": {
   "codemirror_mode": {
    "name": "ipython",
    "version": 3
   },
   "file_extension": ".py",
   "mimetype": "text/x-python",
   "name": "python",
   "nbconvert_exporter": "python",
   "pygments_lexer": "ipython3",
   "version": "3.7.1"
  }
 },
 "nbformat": 4,
 "nbformat_minor": 2
}
