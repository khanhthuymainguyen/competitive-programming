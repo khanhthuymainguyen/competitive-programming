{
 "cells": [
  {
   "cell_type": "code",
   "execution_count": 1,
   "metadata": {},
   "outputs": [
    {
     "name": "stdout",
     "output_type": "stream",
     "text": [
      "2 4\n",
      "1 1 1 1\n",
      "3\n"
     ]
    }
   ],
   "source": [
    "# Challenge here: https://codeforces.com/problemset/problem/557/B\n",
    "\n",
    "n, w = list(map(int, input().split()))\n",
    "a = list(map(int, input().split()))\n",
    "a.sort()\n",
    "\n",
    "g = a[:n]\n",
    "b = a[n:]\n",
    "\n",
    "x = None \n",
    "\n",
    "big = min(b)\n",
    "small = min(g)\n",
    "\n",
    "if big/small <=2:\n",
    "    ans = big/2 * 3 * n\n",
    "    if ans <= w:\n",
    "        x = ans  \n",
    "elif big/small > 2:\n",
    "    ans = small * 3 *n \n",
    "    if ans < w:\n",
    "        x = ans\n",
    "        \n",
    "if x == None:\n",
    "    x = w\n",
    "\n",
    "if int(x) == x:\n",
    "    print(int(x))\n",
    "else: \n",
    "    print(x)"
   ]
  }
 ],
 "metadata": {
  "kernelspec": {
   "display_name": "Python 3",
   "language": "python",
   "name": "python3"
  },
  "language_info": {
   "codemirror_mode": {
    "name": "ipython",
    "version": 3
   },
   "file_extension": ".py",
   "mimetype": "text/x-python",
   "name": "python",
   "nbconvert_exporter": "python",
   "pygments_lexer": "ipython3",
   "version": "3.7.1"
  }
 },
 "nbformat": 4,
 "nbformat_minor": 2
}
